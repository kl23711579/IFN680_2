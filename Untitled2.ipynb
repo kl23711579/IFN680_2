{
 "cells": [
  {
   "cell_type": "code",
   "execution_count": 8,
   "metadata": {},
   "outputs": [],
   "source": [
    "%matplotlib inline\n",
    "\n",
    "import tensorflow as tf\n",
    "import matplotlib.pyplot as plt\n",
    "import numpy as np\n",
    "import pandas as pd\n",
    "import random\n",
    "from tensorflow import keras\n",
    "from tensorflow.keras import regularizers\n",
    "\n",
    "import tensorflow_datasets as tfds "
   ]
  },
  {
   "cell_type": "code",
   "execution_count": 2,
   "metadata": {},
   "outputs": [],
   "source": [
    "class Dataset:\n",
    "    '''\n",
    "    This class will facilitate the creation of a few-shot dataset\n",
    "    from the Omniglot dataset that can be sampled from quickly while also\n",
    "    allowing to create new labels at the same time.\n",
    "    \n",
    "    Adopted from https://keras.io/examples/vision/reptile/\n",
    "    '''\n",
    "    \n",
    "    def __init__(self, training):\n",
    "        # Download the tfrecord files containing the omniglot data and convert to a dataset\n",
    "        split = \"train\" if training else \"test\"\n",
    "        ds = tfds.load('omniglot', split=split, as_supervised=True)\n",
    "        # Iterate over the dataset to get each individual image and its class,\n",
    "        # and put that data into a dictionary.\n",
    "        self.data = {}\n",
    "        \n",
    "        def extraction(image, label):\n",
    "            # This function will shrink the Omniglot images to the desired size,\n",
    "            # scale pixel values and convert the RGB image to grayscale\n",
    "            image = tf.image.convert_image_dtype(image, tf.float32)\n",
    "            image = tf.image.rgb_to_grayscale(image)\n",
    "            image = tf.image.resize(image, [28, 28])\n",
    "            return image, label\n",
    "        \n",
    "        for image, label in ds.map(extraction):\n",
    "            image = image.numpy()\n",
    "            label = str(label.numpy())\n",
    "            if label not in self.data:\n",
    "                self.data[label] = []\n",
    "            self.data[label].append(image)\n",
    "            self.labels = list(self.data.keys())"
   ]
  },
  {
   "cell_type": "code",
   "execution_count": 3,
   "metadata": {},
   "outputs": [],
   "source": [
    "train = Dataset(training=True)"
   ]
  },
  {
   "cell_type": "code",
   "execution_count": 4,
   "metadata": {
    "tags": []
   },
   "outputs": [
    {
     "output_type": "stream",
     "name": "stdout",
     "text": "&lt;class &#39;str&#39;&gt;\n&lt;class &#39;list&#39;&gt;\n20\n(28, 28, 1)\n"
    }
   ],
   "source": [
    "for key, value in train.data.items():\n",
    "    print(type(key))\n",
    "    print(type(value))\n",
    "    print(len(value))\n",
    "    print(value[0].shape)\n",
    "    break"
   ]
  },
  {
   "cell_type": "code",
   "execution_count": 5,
   "metadata": {},
   "outputs": [],
   "source": [
    "def plot_triplet(triplet):\n",
    "    plt.figure(figsize=(6,2))\n",
    "    for i in range(0, 3):\n",
    "        plt.subplot(1,3,i+1)\n",
    "        plt.imshow(np.reshape(triplet[i], (28,28)), cmap='binary')\n",
    "        plt.xticks([])\n",
    "        plt.yticks([])\n",
    "    plt.show()"
   ]
  },
  {
   "cell_type": "code",
   "execution_count": 6,
   "metadata": {},
   "outputs": [],
   "source": [
    "example = []\n",
    "for key, value in train.data.items():\n",
    "    for i in range(3):\n",
    "        example.append(value[i])\n",
    "    break"
   ]
  },
  {
   "cell_type": "code",
   "execution_count": 9,
   "metadata": {},
   "outputs": [
    {
     "output_type": "display_data",
     "data": {
      "text/plain": "&lt;Figure size 432x144 with 3 Axes&gt;",
      "image/svg+xml": "<?xml version=\"1.0\" encoding=\"utf-8\" standalone=\"no\"?>\n<!DOCTYPE svg PUBLIC \"-//W3C//DTD SVG 1.1//EN\"\n  \"http://www.w3.org/Graphics/SVG/1.1/DTD/svg11.dtd\">\n<!-- Created with matplotlib (https://matplotlib.org/) -->\n<svg height=\"116.370588pt\" version=\"1.1\" viewBox=\"0 0 352.7 116.370588\" width=\"352.7pt\" xmlns=\"http://www.w3.org/2000/svg\" xmlns:xlink=\"http://www.w3.org/1999/xlink\">\n <metadata>\n  <rdf:RDF xmlns:cc=\"http://creativecommons.org/ns#\" xmlns:dc=\"http://purl.org/dc/elements/1.1/\" xmlns:rdf=\"http://www.w3.org/1999/02/22-rdf-syntax-ns#\">\n   <cc:Work>\n    <dc:type rdf:resource=\"http://purl.org/dc/dcmitype/StillImage\"/>\n    <dc:date>2020-10-02T12:07:05.779200</dc:date>\n    <dc:format>image/svg+xml</dc:format>\n    <dc:creator>\n     <cc:Agent>\n      <dc:title>Matplotlib v3.3.2, https://matplotlib.org/</dc:title>\n     </cc:Agent>\n    </dc:creator>\n   </cc:Work>\n  </rdf:RDF>\n </metadata>\n <defs>\n  <style type=\"text/css\">*{stroke-linecap:butt;stroke-linejoin:round;}</style>\n </defs>\n <g id=\"figure_1\">\n  <g id=\"patch_1\">\n   <path d=\"M 0 116.370588 \nL 352.7 116.370588 \nL 352.7 0 \nL 0 0 \nz\n\" style=\"fill:none;\"/>\n  </g>\n  <g id=\"axes_1\">\n   <g id=\"patch_2\">\n    <path d=\"M 10.7 105.670588 \nL 109.170588 105.670588 \nL 109.170588 7.2 \nL 10.7 7.2 \nz\n\" style=\"fill:#ffffff;\"/>\n   </g>\n   <g clip-path=\"url(#pd7a2613768)\">\n    <image height=\"99\" id=\"image7d61620d39\" transform=\"scale(1 -1)translate(0 -99)\" width=\"99\" x=\"10.7\" xlink:href=\"data:image/png;base64,\niVBORw0KGgoAAAANSUhEUgAAAGMAAABjCAYAAACPO76VAAACyElEQVR4nO3dUa7xQBjG8akcO3AvErvAJmyAsAVWgSUQ7sUmsAsJIi4lblwJzl11+n0aoZ15OP/f1fRU2kme83ZqOo3AGHMzkJDz3QHcEYYQwhBCGEIIQwhhCPnx3YFXnc/nsJ3P5z32JD1UhhDCEEIYQgLzodMht9u920EQeOxJeqgMIYQhhDCEEIYQwhBCGEIIQwhhCCEMIT/1et36w2AwePug1WrV2t7v928f8y+gMoQQhhDCEBLcotOfGVksFmG7VqulckwXs7aVSiVsL5fLTM4RRWUIIQwhmTxc6vV61nan03n42WazGbYnk8nT53BxmYqeY7PZWPtKpVLq56MyhBCGEMIQ4nxBQvzaWywWH342aSxwPWa4WPRAZQghDCHe103lcvf/h8vlYu07HA5hu1AoWPuyuIQkTUZwmfpjCEMIYQjx/n7G9XoN2/HrcvQavlqtHh4jPv0SH1/K5XLYjj+FTOJ6DS+VIYQwhHi/tX1W0m3ndru1tpO+1ff7fWu72+2+17EUURlCCEMIYQj5mDEjzvfURRaoDCGEIYQwhHzsmBEVHz+iU+/G/Ds9oorKEEIYQrzP2qYhabbXGGNarVbYHo1GTvr0CipDCGEIIQwhXzFmxLXbbWt7OByG7ePxaO2bzWYuuvQUKkMIYQh5+Rt40tO03W5nbUcXHfgQXd8b73d0gYKLV8WSUBlCCEMIYQh5eczI4o1lF+/NRV8nNsZ+Ldr3E0IqQwhhCHH+cKnRaDzcNx6P3XXkP7hMIUQYQghDyFcsSPgWVIYQwhBCGEIIQwhhCCEMIR+zIGG9XlvbWczo+kZlCCEMIR/zDTz+MMv3DGsWqAwhhCGEMIRI39rO53PfXXCKyhBCGEKkb22/8cd0k1AZQghDCGEI8X5r6+BXhj4GlSGEMIR4v7WNrr2dTqfWvtPp5Lo7XlEZQghDCGEI+QVwHaRl92M0ugAAAABJRU5ErkJggg==\" y=\"-6.670588\"/>\n   </g>\n   <g id=\"matplotlib.axis_1\"/>\n   <g id=\"matplotlib.axis_2\"/>\n   <g id=\"patch_3\">\n    <path d=\"M 10.7 105.670588 \nL 10.7 7.2 \n\" style=\"fill:none;stroke:#000000;stroke-linecap:square;stroke-linejoin:miter;stroke-width:0.8;\"/>\n   </g>\n   <g id=\"patch_4\">\n    <path d=\"M 109.170588 105.670588 \nL 109.170588 7.2 \n\" style=\"fill:none;stroke:#000000;stroke-linecap:square;stroke-linejoin:miter;stroke-width:0.8;\"/>\n   </g>\n   <g id=\"patch_5\">\n    <path d=\"M 10.7 105.670588 \nL 109.170588 105.670588 \n\" style=\"fill:none;stroke:#000000;stroke-linecap:square;stroke-linejoin:miter;stroke-width:0.8;\"/>\n   </g>\n   <g id=\"patch_6\">\n    <path d=\"M 10.7 7.2 \nL 109.170588 7.2 \n\" style=\"fill:none;stroke:#000000;stroke-linecap:square;stroke-linejoin:miter;stroke-width:0.8;\"/>\n   </g>\n  </g>\n  <g id=\"axes_2\">\n   <g id=\"patch_7\">\n    <path d=\"M 128.864706 105.670588 \nL 227.335294 105.670588 \nL 227.335294 7.2 \nL 128.864706 7.2 \nz\n\" style=\"fill:#ffffff;\"/>\n   </g>\n   <g clip-path=\"url(#pcb4b990e29)\">\n    <image height=\"99\" id=\"image65f73b98b6\" transform=\"scale(1 -1)translate(0 -99)\" width=\"99\" x=\"128.864706\" xlink:href=\"data:image/png;base64,\niVBORw0KGgoAAAANSUhEUgAAAGMAAABjCAYAAACPO76VAAACaUlEQVR4nO3cT44BQRiG8W6x4wpCnIOVizgad3EMC8INsBSzM9WV6Okx3V1Pjee3Ii2jkne+qvL1n7IoikchhEHqAeibYYAYBsgw9QDaMJ1OK++Px2OikfyNlQFiGCDZTlPh1HQ4HCrHyrLseTTtsDJADAPEMEAMA8QwQAwDpLWt7Wg0er6+Xq8vP7fb7Srvl8tlW0PInpUBYhgghgHS2ppxu92er+u6povFovL+8Xh9ojHXtsa7rAwQwwDppGs7m80af7au+xpOYZ8wZVkZIIYBYhggyc/0hdvgeF0I14z9fl85tlqtuh1YJN6Cd7GGWRkghgGSfJqqE04F8TQRb4O7MJ/PO/+OkJUBYhgghgFSFpnen9FHtzf8jrgT/ZuWT1NWBohhgGQ7TQ0G3/9H9/u9cmy9Xlfeb7fbRn8z9YkuKwPEMEAMAyTbNSMUt0bi28qazvd9dGbrWBkghgGC7tq2pemFDZvNpofRvGZlgBgGiGGA/Iut7U/CNeN8PleOTSaTvofzkpUBYhgghgHyEb8zxuPx83V8v2HYOkn9NB4rA8QwQD5iaxtKfTavjpUBYhgghgHS+5oRX0yc+nEVYdv83atK2mJlgBgGSO+/wONpKfXZtdDlckn6/VYGiGGAGAZItu0QHzKsThkGSLbTFLn7+i4rA8QwQAwDJJsLEuoeHZHrGhGzMkAMAySbrW28lQ1vNx4Os5lta1kZIIYBYhgg2U62p9Mp9RBaZ2WAGAZINtNUfE1T6osHumBlgBgGiGGAZNMO+QRWBohhgBgGiGGAGAaIYYAYBohhgBgGiGGAGAaIYYAYBsgXyYGDvwxmdSEAAAAASUVORK5CYII=\" y=\"-6.670588\"/>\n   </g>\n   <g id=\"matplotlib.axis_3\"/>\n   <g id=\"matplotlib.axis_4\"/>\n   <g id=\"patch_8\">\n    <path d=\"M 128.864706 105.670588 \nL 128.864706 7.2 \n\" style=\"fill:none;stroke:#000000;stroke-linecap:square;stroke-linejoin:miter;stroke-width:0.8;\"/>\n   </g>\n   <g id=\"patch_9\">\n    <path d=\"M 227.335294 105.670588 \nL 227.335294 7.2 \n\" style=\"fill:none;stroke:#000000;stroke-linecap:square;stroke-linejoin:miter;stroke-width:0.8;\"/>\n   </g>\n   <g id=\"patch_10\">\n    <path d=\"M 128.864706 105.670588 \nL 227.335294 105.670588 \n\" style=\"fill:none;stroke:#000000;stroke-linecap:square;stroke-linejoin:miter;stroke-width:0.8;\"/>\n   </g>\n   <g id=\"patch_11\">\n    <path d=\"M 128.864706 7.2 \nL 227.335294 7.2 \n\" style=\"fill:none;stroke:#000000;stroke-linecap:square;stroke-linejoin:miter;stroke-width:0.8;\"/>\n   </g>\n  </g>\n  <g id=\"axes_3\">\n   <g id=\"patch_12\">\n    <path d=\"M 247.029412 105.670588 \nL 345.5 105.670588 \nL 345.5 7.2 \nL 247.029412 7.2 \nz\n\" style=\"fill:#ffffff;\"/>\n   </g>\n   <g clip-path=\"url(#p930c15796a)\">\n    <image height=\"99\" id=\"image5066bed35a\" transform=\"scale(1 -1)translate(0 -99)\" width=\"99\" x=\"247.029412\" xlink:href=\"data:image/png;base64,\niVBORw0KGgoAAAANSUhEUgAAAGMAAABjCAYAAACPO76VAAACp0lEQVR4nO3cS47iMBSFYafVM2DGEMRrGcAuWAmPVQBbgA0Aq4Bt8JBgyAzG9CxlR43VlUrsv7rON4oVqmLp6PoGEyUxxryMIPyKPQH5oDBAFAaIwgBRGCAKA0RhgCgMEIUBojBAFAaIwgBRGCC/Y0/Ap9vtpsfH4zHiTMJQZYAoDBCFAYLqGa+X+6Pj/X5Pj+v1eujpBKfKAFEYIKhlKmsymcSeQlCqDBCFAaIwQBQGiMIAURggCgNEYYAoDBCFAaIwQBQGiMIA8e7ank4nZ2zvou52u3Jm9IOpMkAUBojCAPH2jFqt5oy32+3bzy4Wi/R4Npt9cVrhPB6P9LhSqTjnkiQJOhdVBojCAElMzjck9Pt9Z7zf799fxFPurVYrPT6fz//8d3mNx2NnvFwuS73eZ6gyQBQGiMIAyd0zfLLPzNo2m40zHo1Gbz9b1Bpu37Lat7LGGNNoNNLj2+1WyPXyUmWAKAwQhQFSSs/I8n2X8CmqZ9g97Hq9OueazWYh1yiCKgNEYYAEWaZ8fLfB9hbLer12zq1Wq1z/M/aWh48qA0RhgCgMkOg9wzafz53xdDot5P+S+4RNlQGiMEBQy9Rn+G5fq9WqM34+n2VPpxCqDBCFAaIwQNCvq/Cxb1ezO7HZX/PsneJOp1PqvL5ClQGiMEAKu7XN7qrGNBwOnXGv13v7WdK3c1UGiMIAURgghfUM3/YEmXqG/JXCAPk2u7bZZdB+WCF7K/tdqTJAFAaIwgBB79pmH1Cw/S99wqbKAFEYIKhlyvfc1GAwCD2d4FQZIAoDRGGARN8OsV8fYb86whi3TxwOh2BzikWVAaIwQKIvU/ZubLvdds5dLpfAs4lLlQGiMEAUBkj0nmG/PeGn9YgsVQaIwgCJvkzJB1UGiMIAURggfwCx+IPcB5x3/wAAAABJRU5ErkJggg==\" y=\"-6.670588\"/>\n   </g>\n   <g id=\"matplotlib.axis_5\"/>\n   <g id=\"matplotlib.axis_6\"/>\n   <g id=\"patch_13\">\n    <path d=\"M 247.029412 105.670588 \nL 247.029412 7.2 \n\" style=\"fill:none;stroke:#000000;stroke-linecap:square;stroke-linejoin:miter;stroke-width:0.8;\"/>\n   </g>\n   <g id=\"patch_14\">\n    <path d=\"M 345.5 105.670588 \nL 345.5 7.2 \n\" style=\"fill:none;stroke:#000000;stroke-linecap:square;stroke-linejoin:miter;stroke-width:0.8;\"/>\n   </g>\n   <g id=\"patch_15\">\n    <path d=\"M 247.029412 105.670588 \nL 345.5 105.670588 \n\" style=\"fill:none;stroke:#000000;stroke-linecap:square;stroke-linejoin:miter;stroke-width:0.8;\"/>\n   </g>\n   <g id=\"patch_16\">\n    <path d=\"M 247.029412 7.2 \nL 345.5 7.2 \n\" style=\"fill:none;stroke:#000000;stroke-linecap:square;stroke-linejoin:miter;stroke-width:0.8;\"/>\n   </g>\n  </g>\n </g>\n <defs>\n  <clipPath id=\"pd7a2613768\">\n   <rect height=\"98.470588\" width=\"98.470588\" x=\"10.7\" y=\"7.2\"/>\n  </clipPath>\n  <clipPath id=\"pcb4b990e29\">\n   <rect height=\"98.470588\" width=\"98.470588\" x=\"128.864706\" y=\"7.2\"/>\n  </clipPath>\n  <clipPath id=\"p930c15796a\">\n   <rect height=\"98.470588\" width=\"98.470588\" x=\"247.029412\" y=\"7.2\"/>\n  </clipPath>\n </defs>\n</svg>\n",
      "image/png": "[encoded data removed]"
     },
     "metadata": {}
    }
   ],
   "source": [
    "plot_triplet(example)"
   ]
  },
  {
   "cell_type": "code",
   "execution_count": 10,
   "metadata": {},
   "outputs": [],
   "source": [
    "def create_cnn_model(input_shape, num_classes):\n",
    "    tf.keras.backend.clear_session()\n",
    "    cnn_model = keras.models.Sequential()\n",
    "    \n",
    "    # add layer\n",
    "    cnn_model.add(keras.layers.Conv2D(32, kernel_size=(3,3), activation=\"relu\", input_shape=input_shape))\n",
    "    cnn_model.add(keras.layers.MaxPooling2D(pool_size=(2,2)))\n",
    "    cnn_model.add(keras.layers.Conv2D(64, (3,3), activation=\"relu\"))\n",
    "    cnn_model.add(keras.layers.MaxPooling2D(pool_size=(2,2)))\n",
    "    cnn_model.add(keras.layers.Flatten())\n",
    "    cnn_model.add(keras.layers.Dense(128, activation='relu', kernel_regularizer=regularizers.l2(0.01), bias_regularizer=regularizers.l1(0.01)))\n",
    "    cnn_model.add(keras.layers.Dropout(0.25))\n",
    "    cnn_model.add(keras.layers.Dense(num_classes, activation='softmax'))\n",
    "    \n",
    "    return cnn_model"
   ]
  },
  {
   "cell_type": "code",
   "execution_count": 11,
   "metadata": {
    "tags": []
   },
   "outputs": [
    {
     "output_type": "stream",
     "name": "stdout",
     "text": "Model: &quot;sequential&quot;\n_________________________________________________________________\nLayer (type)                 Output Shape              Param #   \n=================================================================\nconv2d (Conv2D)              (None, 26, 26, 32)        320       \n_________________________________________________________________\nmax_pooling2d (MaxPooling2D) (None, 13, 13, 32)        0         \n_________________________________________________________________\nconv2d_1 (Conv2D)            (None, 11, 11, 64)        18496     \n_________________________________________________________________\nmax_pooling2d_1 (MaxPooling2 (None, 5, 5, 64)          0         \n_________________________________________________________________\nflatten (Flatten)            (None, 1600)              0         \n_________________________________________________________________\ndense (Dense)                (None, 128)               204928    \n_________________________________________________________________\ndropout (Dropout)            (None, 128)               0         \n_________________________________________________________________\ndense_1 (Dense)              (None, 964)               124356    \n=================================================================\nTotal params: 348,100\nTrainable params: 348,100\nNon-trainable params: 0\n_________________________________________________________________\n"
    }
   ],
   "source": [
    "input_shape = (28, 28, 1)\n",
    "\n",
    "cnn_model = create_cnn_model(input_shape, len(train.labels))\n",
    "cnn_model.summary()"
   ]
  },
  {
   "cell_type": "code",
   "execution_count": 12,
   "metadata": {},
   "outputs": [],
   "source": [
    "in_anc = tf.keras.layers.Input(shape=input_shape)\n",
    "in_pos = tf.keras.layers.Input(shape=input_shape)\n",
    "in_neg = tf.keras.layers.Input(shape=input_shape)"
   ]
  },
  {
   "cell_type": "code",
   "execution_count": 13,
   "metadata": {},
   "outputs": [],
   "source": [
    "em_anc = cnn_model(in_anc)\n",
    "em_pos = cnn_model(in_pos)\n",
    "em_neg = cnn_model(in_neg)"
   ]
  },
  {
   "cell_type": "code",
   "execution_count": 14,
   "metadata": {},
   "outputs": [],
   "source": [
    "out = tf.keras.layers.concatenate([em_anc, em_pos, em_neg], axis=1)"
   ]
  },
  {
   "cell_type": "code",
   "execution_count": 15,
   "metadata": {
    "tags": []
   },
   "outputs": [
    {
     "output_type": "stream",
     "name": "stdout",
     "text": "Model: &quot;functional_1&quot;\n__________________________________________________________________________________________________\nLayer (type)                    Output Shape         Param #     Connected to                     \n==================================================================================================\ninput_1 (InputLayer)            [(None, 28, 28, 1)]  0                                            \n__________________________________________________________________________________________________\ninput_2 (InputLayer)            [(None, 28, 28, 1)]  0                                            \n__________________________________________________________________________________________________\ninput_3 (InputLayer)            [(None, 28, 28, 1)]  0                                            \n__________________________________________________________________________________________________\nsequential (Sequential)         (None, 964)          348100      input_1[0][0]                    \n                                                                 input_2[0][0]                    \n                                                                 input_3[0][0]                    \n__________________________________________________________________________________________________\nconcatenate (Concatenate)       (None, 2892)         0           sequential[0][0]                 \n                                                                 sequential[1][0]                 \n                                                                 sequential[2][0]                 \n==================================================================================================\nTotal params: 348,100\nTrainable params: 348,100\nNon-trainable params: 0\n__________________________________________________________________________________________________\n"
    }
   ],
   "source": [
    "net = tf.keras.models.Model(\n",
    "    [in_anc, in_pos, in_neg], \n",
    "    out\n",
    ")\n",
    "net.summary()"
   ]
  },
  {
   "cell_type": "code",
   "execution_count": 16,
   "metadata": {},
   "outputs": [],
   "source": [
    "def create_pairs(x):\n",
    "    pairs = []\n",
    "    labels = []\n",
    "    num_classes = len(x.labels)\n",
    "    n = min([len(x.data[str(i)]) for i in range(num_classes)]) - 1\n",
    "    for d in range(num_classes):\n",
    "        for i in range(n):\n",
    "            z1, z2 = x.data[str(d)][i], x.data[str(d)][i+1]\n",
    "            inc = random.randrange(1, num_classes)\n",
    "            dn = (d + inc) % num_classes\n",
    "            index = random.randint(0, n)\n",
    "            z3 = x.data[str(dn)][index]\n",
    "            pairs += [[z1, z2, z3]]\n",
    "            labels += [0]\n",
    "    return np.array(pairs), np.array(labels)\n",
    "    "
   ]
  },
  {
   "cell_type": "code",
   "execution_count": 17,
   "metadata": {},
   "outputs": [],
   "source": [
    "x_train, y_train = create_pairs(train)"
   ]
  },
  {
   "cell_type": "code",
   "execution_count": 18,
   "metadata": {
    "tags": []
   },
   "outputs": [
    {
     "output_type": "stream",
     "name": "stdout",
     "text": "(18316, 3, 28, 28, 1)\n(18316,)\n"
    }
   ],
   "source": [
    "print(x_train.shape)\n",
    "print(y_train.shape)"
   ]
  },
  {
   "cell_type": "code",
   "execution_count": 19,
   "metadata": {},
   "outputs": [],
   "source": [
    "def triplet_loss(margin, num_classes):\n",
    "    def loss(y_true, y_pred):\n",
    "        anc, pos, neg = y_pred[:, :num_classes], y_pred[:, num_classes:2*num_classes], y_pred[:, 2*num_classes:]\n",
    "        dp = tf.reduce_sum(tf.square(anc - pos), axis=1)\n",
    "        dn = tf.reduce_sum(tf.square(anc - neg), axis=1)\n",
    "        return tf.reduce_mean(tf.maximum(dp - dn + margin, 0.))\n",
    "    # return function\n",
    "    return loss"
   ]
  },
  {
   "cell_type": "code",
   "execution_count": 22,
   "metadata": {},
   "outputs": [],
   "source": [
    "num_classes = len(train.labels)\n",
    "net.compile(loss=triplet_loss(margin=0.2, num_classes=num_classes), optimizer='adam', metrics=['accuracy'])"
   ]
  },
  {
   "cell_type": "code",
   "execution_count": 24,
   "metadata": {
    "tags": []
   },
   "outputs": [
    {
     "output_type": "stream",
     "name": "stdout",
     "text": "Epoch 1/12\n144/144 [==============================] - 30s 207ms/step - loss: 0.4723 - accuracy: 0.0000e+00\nEpoch 2/12\n144/144 [==============================] - 35s 244ms/step - loss: 0.2002 - accuracy: 0.0000e+00\nEpoch 3/12\n144/144 [==============================] - 37s 259ms/step - loss: 0.2002 - accuracy: 0.0000e+00\nEpoch 4/12\n144/144 [==============================] - 38s 261ms/step - loss: 0.2002 - accuracy: 0.0000e+00\nEpoch 5/12\n144/144 [==============================] - 37s 260ms/step - loss: 0.2002 - accuracy: 0.0000e+00\nEpoch 6/12\n144/144 [==============================] - 36s 253ms/step - loss: 0.2002 - accuracy: 0.0000e+00\nEpoch 7/12\n144/144 [==============================] - 37s 255ms/step - loss: 0.2002 - accuracy: 0.0000e+00\nEpoch 8/12\n144/144 [==============================] - 37s 254ms/step - loss: 0.2002 - accuracy: 0.0000e+00\nEpoch 9/12\n144/144 [==============================] - 36s 250ms/step - loss: 0.2002 - accuracy: 0.0000e+00\nEpoch 10/12\n144/144 [==============================] - 36s 249ms/step - loss: 0.2002 - accuracy: 0.0000e+00\nEpoch 11/12\n144/144 [==============================] - 36s 252ms/step - loss: 0.2002 - accuracy: 0.0000e+00\nEpoch 12/12\n144/144 [==============================] - 35s 241ms/step - loss: 0.2002 - accuracy: 0.0000e+00\n"
    }
   ],
   "source": [
    "epochs = 12\n",
    "history = net.fit(\n",
    "    [x_train[:,0], x_train[:,1], x_train[:,2]],y_train,\n",
    "    batch_size=128,\n",
    "    epochs=epochs,\n",
    "    verbose=True\n",
    ")"
   ]
  },
  {
   "cell_type": "code",
   "execution_count": null,
   "metadata": {},
   "outputs": [],
   "source": []
  }
 ],
 "metadata": {
  "kernelspec": {
   "display_name": "Python 3",
   "language": "python",
   "name": "python3"
  },
  "language_info": {
   "codemirror_mode": {
    "name": "ipython",
    "version": 3
   },
   "file_extension": ".py",
   "mimetype": "text/x-python",
   "name": "python",
   "nbconvert_exporter": "python",
   "pygments_lexer": "ipython3",
   "version": "3.7.7-final"
  },
  "varInspector": {
   "cols": {
    "lenName": 16,
    "lenType": 16,
    "lenVar": 40
   },
   "kernels_config": {
    "python": {
     "delete_cmd_postfix": "",
     "delete_cmd_prefix": "del ",
     "library": "var_list.py",
     "varRefreshCmd": "print(var_dic_list())"
    },
    "r": {
     "delete_cmd_postfix": ") ",
     "delete_cmd_prefix": "rm(",
     "library": "var_list.r",
     "varRefreshCmd": "cat(var_dic_list()) "
    }
   },
   "oldHeight": 356,
   "position": {
    "height": "40px",
    "left": "1255px",
    "right": "20px",
    "top": "87px",
    "width": "598px"
   },
   "types_to_exclude": [
    "module",
    "function",
    "builtin_function_or_method",
    "instance",
    "_Feature"
   ],
   "varInspector_section_display": "none",
   "window_display": true
  }
 },
 "nbformat": 4,
 "nbformat_minor": 4
}