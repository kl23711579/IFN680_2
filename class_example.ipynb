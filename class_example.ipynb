{
 "cells": [
  {
   "cell_type": "code",
   "execution_count": 1,
   "metadata": {},
   "outputs": [],
   "source": [
    "import numpy as np\n",
    "\n",
    "import tensorflow as tf\n",
    "from tensorflow import keras\n",
    "from tensorflow.keras import regularizers\n",
    "from sklearn.utils import shuffle\n",
    "\n",
    "\n",
    "import matplotlib.pyplot as plt"
   ]
  },
  {
   "cell_type": "code",
   "execution_count": 2,
   "metadata": {},
   "outputs": [],
   "source": [
    "#Test implementation of triplet loss function \n",
    "num_data = 10\n",
    "feat_dim = 6\n",
    "margin = 0.2"
   ]
  },
  {
   "cell_type": "code",
   "execution_count": 3,
   "metadata": {},
   "outputs": [],
   "source": [
    "embeddings = [np.random.rand(num_data, feat_dim).astype(np.float32),\n",
    "              np.random.rand(num_data, feat_dim).astype(np.float32),\n",
    "              np.random.rand(num_data, feat_dim).astype(np.float32)]"
   ]
  },
  {
   "cell_type": "code",
   "execution_count": 5,
   "metadata": {},
   "outputs": [
    {
     "data": {
      "text/plain": [
       "[array([[4.5181713e-01, 3.7829283e-01, 4.1921139e-01, 8.5711336e-01,\n",
       "         2.1823148e-01, 5.3608175e-02],\n",
       "        [7.0106494e-01, 6.1839100e-02, 9.3589365e-01, 1.7886186e-01,\n",
       "         6.8123066e-01, 8.4771293e-01],\n",
       "        [7.3391691e-02, 7.2488368e-01, 6.5082681e-01, 7.3388082e-01,\n",
       "         9.2085075e-01, 4.8518210e-04],\n",
       "        [3.0319110e-01, 3.9579037e-01, 2.0935582e-01, 1.1962967e-01,\n",
       "         2.6045564e-01, 6.7503363e-01],\n",
       "        [7.6030606e-01, 4.2399213e-01, 6.8845230e-01, 5.0208968e-01,\n",
       "         9.4035737e-02, 1.1812676e-01],\n",
       "        [5.8021528e-01, 5.7038903e-01, 5.4501975e-01, 8.0889553e-01,\n",
       "         9.8018162e-03, 6.3672340e-01],\n",
       "        [4.1470653e-01, 8.7032214e-02, 2.1712047e-01, 4.9986193e-01,\n",
       "         3.7923777e-01, 5.3729934e-01],\n",
       "        [7.7941215e-01, 5.0795031e-01, 5.1249033e-01, 4.5554299e-02,\n",
       "         5.3430098e-01, 2.9619408e-01],\n",
       "        [3.8935500e-01, 3.3888900e-01, 4.3527365e-01, 7.1951312e-01,\n",
       "         8.3765024e-01, 8.2094687e-01],\n",
       "        [9.8063660e-01, 7.5210983e-01, 1.3784952e-01, 9.4211584e-01,\n",
       "         9.4129598e-01, 9.4882697e-01]], dtype=float32),\n",
       " array([[0.21577436, 0.28277734, 0.892429  , 0.47494802, 0.7493831 ,\n",
       "         0.5119739 ],\n",
       "        [0.483254  , 0.41792822, 0.32888514, 0.32180467, 0.6443913 ,\n",
       "         0.865658  ],\n",
       "        [0.2849496 , 0.19610411, 0.03502611, 0.17679091, 0.70417935,\n",
       "         0.4697096 ],\n",
       "        [0.988604  , 0.70123434, 0.39841476, 0.13769048, 0.5743247 ,\n",
       "         0.66389024],\n",
       "        [0.22754173, 0.27769956, 0.10723718, 0.8172635 , 0.11507413,\n",
       "         0.6968306 ],\n",
       "        [0.27674124, 0.08001114, 0.865613  , 0.07744482, 0.8302731 ,\n",
       "         0.24704482],\n",
       "        [0.7070096 , 0.80614805, 0.00579305, 0.7926286 , 0.7386258 ,\n",
       "         0.4541493 ],\n",
       "        [0.13220245, 0.59168404, 0.27826422, 0.10731982, 0.86611056,\n",
       "         0.24719511],\n",
       "        [0.49042577, 0.4820018 , 0.9812622 , 0.28292656, 0.6596848 ,\n",
       "         0.92425215],\n",
       "        [0.8004325 , 0.2612714 , 0.52012396, 0.04134368, 0.8988428 ,\n",
       "         0.22949545]], dtype=float32),\n",
       " array([[0.19597894, 0.88690144, 0.2742459 , 0.07459328, 0.88757455,\n",
       "         0.9905477 ],\n",
       "        [0.7251572 , 0.29100928, 0.5560788 , 0.41449913, 0.09795263,\n",
       "         0.9989235 ],\n",
       "        [0.42707926, 0.0204036 , 0.8775793 , 0.42801043, 0.5247585 ,\n",
       "         0.8622167 ],\n",
       "        [0.2622239 , 0.87056506, 0.12543428, 0.171212  , 0.54912835,\n",
       "         0.7601571 ],\n",
       "        [0.08125824, 0.5654857 , 0.29393804, 0.48597577, 0.00134538,\n",
       "         0.5806031 ],\n",
       "        [0.15798835, 0.29409575, 0.68970734, 0.5873223 , 0.95075774,\n",
       "         0.9188759 ],\n",
       "        [0.12656042, 0.33315998, 0.18606065, 0.22360875, 0.3918218 ,\n",
       "         0.2840794 ],\n",
       "        [0.314092  , 0.5424883 , 0.534474  , 0.7720885 , 0.00310421,\n",
       "         0.8080807 ],\n",
       "        [0.46216905, 0.47359613, 0.03533291, 0.11721874, 0.8046118 ,\n",
       "         0.6863574 ],\n",
       "        [0.186605  , 0.0720272 , 0.45926902, 0.22960563, 0.00671941,\n",
       "         0.9819239 ]], dtype=float32)]"
      ]
     },
     "execution_count": 5,
     "metadata": {},
     "output_type": "execute_result"
    }
   ],
   "source": [
    "embeddings"
   ]
  },
  {
   "cell_type": "code",
   "execution_count": 9,
   "metadata": {},
   "outputs": [
    {
     "data": {
      "text/plain": [
       "array([0., 0., 0., 0., 0., 0., 0., 0., 0., 0.], dtype=float32)"
      ]
     },
     "execution_count": 9,
     "metadata": {},
     "output_type": "execute_result"
    }
   ],
   "source": [
    "labels = np.random.randint(0, 1, size=(num_data)).astype(np.float32)\n",
    "labels"
   ]
  },
  {
   "cell_type": "code",
   "execution_count": 17,
   "metadata": {},
   "outputs": [],
   "source": [
    "loss_np = 0\n",
    "anchor = embeddings[0]\n",
    "positive = embeddings[1]\n",
    "negative = embeddings[2]"
   ]
  },
  {
   "cell_type": "code",
   "execution_count": 18,
   "metadata": {},
   "outputs": [
    {
     "data": {
      "text/plain": [
       "2.8234695315361025"
      ]
     },
     "execution_count": 18,
     "metadata": {},
     "output_type": "execute_result"
    }
   ],
   "source": [
    "for i in range(num_data):\n",
    "    pos_dict = np.sum(np.square(anchor[i]-positive[i]))\n",
    "    neg_dict = np.sum(np.square(anchor[i]-negative[i]))\n",
    "    loss_np += max(pos_dict-neg_dict+margin, 0.)\n",
    "\n",
    "loss_np"
   ]
  },
  {
   "cell_type": "code",
   "execution_count": 19,
   "metadata": {},
   "outputs": [
    {
     "data": {
      "text/plain": [
       "0.28234695315361025"
      ]
     },
     "execution_count": 19,
     "metadata": {},
     "output_type": "execute_result"
    }
   ],
   "source": [
    "loss_np /= num_data\n",
    "loss_np"
   ]
  },
  {
   "cell_type": "code",
   "execution_count": 20,
   "metadata": {},
   "outputs": [
    {
     "name": "stdout",
     "output_type": "stream",
     "text": [
      "Triplet loss computed with numpy 0.28234695315361025\n"
     ]
    }
   ],
   "source": [
    "print('Triplet loss computed with numpy', loss_np)"
   ]
  },
  {
   "cell_type": "code",
   "execution_count": 23,
   "metadata": {},
   "outputs": [],
   "source": [
    "anchor = embeddings[0]\n",
    "positive = embeddings[1]\n",
    "negative = embeddings[2]"
   ]
  },
  {
   "cell_type": "code",
   "execution_count": 30,
   "metadata": {},
   "outputs": [
    {
     "data": {
      "text/plain": [
       "array([[4.5181713e-01, 3.7829283e-01, 4.1921139e-01, 8.5711336e-01,\n",
       "        2.1823148e-01, 5.3608175e-02],\n",
       "       [7.0106494e-01, 6.1839100e-02, 9.3589365e-01, 1.7886186e-01,\n",
       "        6.8123066e-01, 8.4771293e-01],\n",
       "       [7.3391691e-02, 7.2488368e-01, 6.5082681e-01, 7.3388082e-01,\n",
       "        9.2085075e-01, 4.8518210e-04],\n",
       "       [3.0319110e-01, 3.9579037e-01, 2.0935582e-01, 1.1962967e-01,\n",
       "        2.6045564e-01, 6.7503363e-01],\n",
       "       [7.6030606e-01, 4.2399213e-01, 6.8845230e-01, 5.0208968e-01,\n",
       "        9.4035737e-02, 1.1812676e-01],\n",
       "       [5.8021528e-01, 5.7038903e-01, 5.4501975e-01, 8.0889553e-01,\n",
       "        9.8018162e-03, 6.3672340e-01],\n",
       "       [4.1470653e-01, 8.7032214e-02, 2.1712047e-01, 4.9986193e-01,\n",
       "        3.7923777e-01, 5.3729934e-01],\n",
       "       [7.7941215e-01, 5.0795031e-01, 5.1249033e-01, 4.5554299e-02,\n",
       "        5.3430098e-01, 2.9619408e-01],\n",
       "       [3.8935500e-01, 3.3888900e-01, 4.3527365e-01, 7.1951312e-01,\n",
       "        8.3765024e-01, 8.2094687e-01],\n",
       "       [9.8063660e-01, 7.5210983e-01, 1.3784952e-01, 9.4211584e-01,\n",
       "        9.4129598e-01, 9.4882697e-01]], dtype=float32)"
      ]
     },
     "execution_count": 30,
     "metadata": {},
     "output_type": "execute_result"
    }
   ],
   "source": [
    "anchor"
   ]
  },
  {
   "cell_type": "code",
   "execution_count": 21,
   "metadata": {},
   "outputs": [],
   "source": [
    "def triplet_loss(y_true, y_pred, margin=0.4):\n",
    "    anchor = y_pred[0]\n",
    "    positive = y_pred[1]\n",
    "    negative = y_pred[2]\n",
    "    \n",
    "    pos_dist = tf.reduce_sum(tf.square(anchor-positive), axis=1)\n",
    "    neg_dist = tf.reduce_sum(tf.square(anchor-negative), axis=1)\n",
    "    \n",
    "    # compute loss\n",
    "    basic_loss = pos_dist-neg_dist+margin\n",
    "    loss = tf.maximum(basic_loss,0.0)\n",
    "    loss = tf.reduce_mean(loss)     \n",
    "    return loss"
   ]
  },
  {
   "cell_type": "code",
   "execution_count": 35,
   "metadata": {},
   "outputs": [
    {
     "data": {
      "text/plain": [
       "array([[ -1.,  -1.,  -1.,  -1.],\n",
       "       [-10., -10., -10., -10.]])"
      ]
     },
     "execution_count": 35,
     "metadata": {},
     "output_type": "execute_result"
    }
   ],
   "source": [
    "a = np.array([[1.,2.,3.,4.], [10.,20.,30.,40.]])\n",
    "b = np.array([[2.,3.,4.,5.], [20.,30.,40.,50.]])\n",
    "a-b"
   ]
  },
  {
   "cell_type": "code",
   "execution_count": null,
   "metadata": {},
   "outputs": [],
   "source": []
  },
  {
   "cell_type": "code",
   "execution_count": 2,
   "metadata": {},
   "outputs": [],
   "source": [
    "(x_train, y_train), (x_test, y_test) = keras.datasets.mnist.load_data()"
   ]
  },
  {
   "cell_type": "code",
   "execution_count": 3,
   "metadata": {},
   "outputs": [
    {
     "data": {
      "text/plain": [
       "(60000, 28, 28)"
      ]
     },
     "execution_count": 3,
     "metadata": {},
     "output_type": "execute_result"
    }
   ],
   "source": [
    "x_train.shape"
   ]
  },
  {
   "cell_type": "code",
   "execution_count": 4,
   "metadata": {},
   "outputs": [
    {
     "data": {
      "text/plain": [
       "array([[  0,   0,   0,   0,   0,   0,   0,   0,   0,   0,   0,   0,   0,\n",
       "          0,   0,   0,   0,   0,   0,   0,   0,   0,   0,   0,   0,   0,\n",
       "          0,   0],\n",
       "       [  0,   0,   0,   0,   0,   0,   0,   0,   0,   0,   0,   0,   0,\n",
       "          0,   0,   0,   0,   0,   0,   0,   0,   0,   0,   0,   0,   0,\n",
       "          0,   0],\n",
       "       [  0,   0,   0,   0,   0,   0,   0,   0,   0,   0,   0,   0,   0,\n",
       "          0,   0,   0,   0,   0,   0,   0,   0,   0,   0,   0,   0,   0,\n",
       "          0,   0],\n",
       "       [  0,   0,   0,   0,   0,   0,   0,   0,   0,   0,   0,   0,   0,\n",
       "          0,   0,   0,   0,   0,   0,   0,   0,   0,   0,   0,   0,   0,\n",
       "          0,   0],\n",
       "       [  0,   0,   0,   0,   0,   0,   0,   0,   0,   0,   0,   0,   0,\n",
       "          0,   0,   0,   0,   0,   0,   0,   0,   0,   0,   0,   0,   0,\n",
       "          0,   0],\n",
       "       [  0,   0,   0,   0,   0,   0,   0,   0,   0,   0,   0,   0,   3,\n",
       "         18,  18,  18, 126, 136, 175,  26, 166, 255, 247, 127,   0,   0,\n",
       "          0,   0],\n",
       "       [  0,   0,   0,   0,   0,   0,   0,   0,  30,  36,  94, 154, 170,\n",
       "        253, 253, 253, 253, 253, 225, 172, 253, 242, 195,  64,   0,   0,\n",
       "          0,   0],\n",
       "       [  0,   0,   0,   0,   0,   0,   0,  49, 238, 253, 253, 253, 253,\n",
       "        253, 253, 253, 253, 251,  93,  82,  82,  56,  39,   0,   0,   0,\n",
       "          0,   0],\n",
       "       [  0,   0,   0,   0,   0,   0,   0,  18, 219, 253, 253, 253, 253,\n",
       "        253, 198, 182, 247, 241,   0,   0,   0,   0,   0,   0,   0,   0,\n",
       "          0,   0],\n",
       "       [  0,   0,   0,   0,   0,   0,   0,   0,  80, 156, 107, 253, 253,\n",
       "        205,  11,   0,  43, 154,   0,   0,   0,   0,   0,   0,   0,   0,\n",
       "          0,   0],\n",
       "       [  0,   0,   0,   0,   0,   0,   0,   0,   0,  14,   1, 154, 253,\n",
       "         90,   0,   0,   0,   0,   0,   0,   0,   0,   0,   0,   0,   0,\n",
       "          0,   0],\n",
       "       [  0,   0,   0,   0,   0,   0,   0,   0,   0,   0,   0, 139, 253,\n",
       "        190,   2,   0,   0,   0,   0,   0,   0,   0,   0,   0,   0,   0,\n",
       "          0,   0],\n",
       "       [  0,   0,   0,   0,   0,   0,   0,   0,   0,   0,   0,  11, 190,\n",
       "        253,  70,   0,   0,   0,   0,   0,   0,   0,   0,   0,   0,   0,\n",
       "          0,   0],\n",
       "       [  0,   0,   0,   0,   0,   0,   0,   0,   0,   0,   0,   0,  35,\n",
       "        241, 225, 160, 108,   1,   0,   0,   0,   0,   0,   0,   0,   0,\n",
       "          0,   0],\n",
       "       [  0,   0,   0,   0,   0,   0,   0,   0,   0,   0,   0,   0,   0,\n",
       "         81, 240, 253, 253, 119,  25,   0,   0,   0,   0,   0,   0,   0,\n",
       "          0,   0],\n",
       "       [  0,   0,   0,   0,   0,   0,   0,   0,   0,   0,   0,   0,   0,\n",
       "          0,  45, 186, 253, 253, 150,  27,   0,   0,   0,   0,   0,   0,\n",
       "          0,   0],\n",
       "       [  0,   0,   0,   0,   0,   0,   0,   0,   0,   0,   0,   0,   0,\n",
       "          0,   0,  16,  93, 252, 253, 187,   0,   0,   0,   0,   0,   0,\n",
       "          0,   0],\n",
       "       [  0,   0,   0,   0,   0,   0,   0,   0,   0,   0,   0,   0,   0,\n",
       "          0,   0,   0,   0, 249, 253, 249,  64,   0,   0,   0,   0,   0,\n",
       "          0,   0],\n",
       "       [  0,   0,   0,   0,   0,   0,   0,   0,   0,   0,   0,   0,   0,\n",
       "          0,  46, 130, 183, 253, 253, 207,   2,   0,   0,   0,   0,   0,\n",
       "          0,   0],\n",
       "       [  0,   0,   0,   0,   0,   0,   0,   0,   0,   0,   0,   0,  39,\n",
       "        148, 229, 253, 253, 253, 250, 182,   0,   0,   0,   0,   0,   0,\n",
       "          0,   0],\n",
       "       [  0,   0,   0,   0,   0,   0,   0,   0,   0,   0,  24, 114, 221,\n",
       "        253, 253, 253, 253, 201,  78,   0,   0,   0,   0,   0,   0,   0,\n",
       "          0,   0],\n",
       "       [  0,   0,   0,   0,   0,   0,   0,   0,  23,  66, 213, 253, 253,\n",
       "        253, 253, 198,  81,   2,   0,   0,   0,   0,   0,   0,   0,   0,\n",
       "          0,   0],\n",
       "       [  0,   0,   0,   0,   0,   0,  18, 171, 219, 253, 253, 253, 253,\n",
       "        195,  80,   9,   0,   0,   0,   0,   0,   0,   0,   0,   0,   0,\n",
       "          0,   0],\n",
       "       [  0,   0,   0,   0,  55, 172, 226, 253, 253, 253, 253, 244, 133,\n",
       "         11,   0,   0,   0,   0,   0,   0,   0,   0,   0,   0,   0,   0,\n",
       "          0,   0],\n",
       "       [  0,   0,   0,   0, 136, 253, 253, 253, 212, 135, 132,  16,   0,\n",
       "          0,   0,   0,   0,   0,   0,   0,   0,   0,   0,   0,   0,   0,\n",
       "          0,   0],\n",
       "       [  0,   0,   0,   0,   0,   0,   0,   0,   0,   0,   0,   0,   0,\n",
       "          0,   0,   0,   0,   0,   0,   0,   0,   0,   0,   0,   0,   0,\n",
       "          0,   0],\n",
       "       [  0,   0,   0,   0,   0,   0,   0,   0,   0,   0,   0,   0,   0,\n",
       "          0,   0,   0,   0,   0,   0,   0,   0,   0,   0,   0,   0,   0,\n",
       "          0,   0],\n",
       "       [  0,   0,   0,   0,   0,   0,   0,   0,   0,   0,   0,   0,   0,\n",
       "          0,   0,   0,   0,   0,   0,   0,   0,   0,   0,   0,   0,   0,\n",
       "          0,   0]], dtype=uint8)"
      ]
     },
     "execution_count": 4,
     "metadata": {},
     "output_type": "execute_result"
    }
   ],
   "source": [
    "x_train[0]"
   ]
  },
  {
   "cell_type": "code",
   "execution_count": 6,
   "metadata": {},
   "outputs": [
    {
     "name": "stdout",
     "output_type": "stream",
     "text": [
      "x_train shape: (60000, 28, 28, 1)\n",
      "60000 train samples\n",
      "10000 test samples\n"
     ]
    }
   ],
   "source": [
    "img_rows, img_cols = x_train.shape[1:3]\n",
    "num_classes = len(np.unique(y_train))\n",
    "\n",
    "# reshape the input arrays to 4D (batch_size, rows, columns, channels)\n",
    "x_train = x_train.reshape(x_train.shape[0], img_rows, img_cols, 1)\n",
    "x_test = x_test.reshape(x_test.shape[0], img_rows, img_cols, 1)\n",
    "input_shape = (img_rows, img_cols, 1)\n",
    "batch_size = 128\n",
    "#for debugging use 3 epochs\n",
    "#epochs = 3\n",
    "epochs = 12\n",
    "\n",
    "# convert to float32 and rescale between 0 and 1\n",
    "x_train = x_train.astype('float32')\n",
    "x_test = x_test.astype('float32')\n",
    "x_train /= 255\n",
    "x_test /= 255\n",
    "print('x_train shape:', x_train.shape)\n",
    "print(x_train.shape[0], 'train samples')\n",
    "print(x_test.shape[0], 'test samples')"
   ]
  },
  {
   "cell_type": "code",
   "execution_count": null,
   "metadata": {},
   "outputs": [],
   "source": []
  }
 ],
 "metadata": {
  "kernelspec": {
   "display_name": "Python 3",
   "language": "python",
   "name": "python3"
  },
  "language_info": {
   "codemirror_mode": {
    "name": "ipython",
    "version": 3
   },
   "file_extension": ".py",
   "mimetype": "text/x-python",
   "name": "python",
   "nbconvert_exporter": "python",
   "pygments_lexer": "ipython3",
   "version": "3.7.7"
  },
  "varInspector": {
   "cols": {
    "lenName": 16,
    "lenType": 16,
    "lenVar": 40
   },
   "kernels_config": {
    "python": {
     "delete_cmd_postfix": "",
     "delete_cmd_prefix": "del ",
     "library": "var_list.py",
     "varRefreshCmd": "print(var_dic_list())"
    },
    "r": {
     "delete_cmd_postfix": ") ",
     "delete_cmd_prefix": "rm(",
     "library": "var_list.r",
     "varRefreshCmd": "cat(var_dic_list()) "
    }
   },
   "types_to_exclude": [
    "module",
    "function",
    "builtin_function_or_method",
    "instance",
    "_Feature"
   ],
   "window_display": false
  }
 },
 "nbformat": 4,
 "nbformat_minor": 4
}
